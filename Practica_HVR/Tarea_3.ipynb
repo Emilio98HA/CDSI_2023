{
  "nbformat": 4,
  "nbformat_minor": 0,
  "metadata": {
    "colab": {
      "provenance": [],
      "toc_visible": true,
      "include_colab_link": true
    },
    "kernelspec": {
      "name": "python3",
      "display_name": "Python 3"
    },
    "language_info": {
      "name": "python"
    }
  },
  "cells": [
    {
      "cell_type": "markdown",
      "metadata": {
        "id": "view-in-github",
        "colab_type": "text"
      },
      "source": [
        "<a href=\"https://colab.research.google.com/github/emiliocicese/CDSI_2023/blob/main/Practica_HVR/Tarea_3.ipynb\" target=\"_parent\"><img src=\"https://colab.research.google.com/assets/colab-badge.svg\" alt=\"Open In Colab\"/></a>"
      ]
    },
    {
      "cell_type": "markdown",
      "source": [
        "# Práctica 3\n",
        "\n",
        "Emilio Hernández Arellano"
      ],
      "metadata": {
        "id": "vqZ0u9gaJoDb"
      }
    },
    {
      "cell_type": "code",
      "source": [
        "!pip install hrv-analysis"
      ],
      "metadata": {
        "colab": {
          "base_uri": "https://localhost:8080/"
        },
        "id": "wxImBFt8JwYy",
        "outputId": "010c4b5f-facc-4bd4-95b3-38aea270e973"
      },
      "execution_count": 1,
      "outputs": [
        {
          "output_type": "stream",
          "name": "stdout",
          "text": [
            "Looking in indexes: https://pypi.org/simple, https://us-python.pkg.dev/colab-wheels/public/simple/\n",
            "Collecting hrv-analysis\n",
            "  Downloading hrv_analysis-1.0.4-py3-none-any.whl (28 kB)\n",
            "Collecting nolds>=0.4.1\n",
            "  Downloading nolds-0.5.2-py2.py3-none-any.whl (39 kB)\n",
            "Requirement already satisfied: numpy>=1.15.1 in /usr/local/lib/python3.8/dist-packages (from hrv-analysis) (1.22.4)\n",
            "Requirement already satisfied: astropy>=3.0.4 in /usr/local/lib/python3.8/dist-packages (from hrv-analysis) (4.3.1)\n",
            "Requirement already satisfied: scipy>=1.1.0 in /usr/local/lib/python3.8/dist-packages (from hrv-analysis) (1.10.1)\n",
            "Requirement already satisfied: matplotlib>=2.2.2 in /usr/local/lib/python3.8/dist-packages (from hrv-analysis) (3.5.3)\n",
            "Requirement already satisfied: pandas>=0.23.4 in /usr/local/lib/python3.8/dist-packages (from hrv-analysis) (1.3.5)\n",
            "Requirement already satisfied: pyerfa>=1.7.3 in /usr/local/lib/python3.8/dist-packages (from astropy>=3.0.4->hrv-analysis) (2.0.0.1)\n",
            "Requirement already satisfied: python-dateutil>=2.7 in /usr/local/lib/python3.8/dist-packages (from matplotlib>=2.2.2->hrv-analysis) (2.8.2)\n",
            "Requirement already satisfied: cycler>=0.10 in /usr/local/lib/python3.8/dist-packages (from matplotlib>=2.2.2->hrv-analysis) (0.11.0)\n",
            "Requirement already satisfied: kiwisolver>=1.0.1 in /usr/local/lib/python3.8/dist-packages (from matplotlib>=2.2.2->hrv-analysis) (1.4.4)\n",
            "Requirement already satisfied: fonttools>=4.22.0 in /usr/local/lib/python3.8/dist-packages (from matplotlib>=2.2.2->hrv-analysis) (4.38.0)\n",
            "Requirement already satisfied: pyparsing>=2.2.1 in /usr/local/lib/python3.8/dist-packages (from matplotlib>=2.2.2->hrv-analysis) (3.0.9)\n",
            "Requirement already satisfied: packaging>=20.0 in /usr/local/lib/python3.8/dist-packages (from matplotlib>=2.2.2->hrv-analysis) (23.0)\n",
            "Requirement already satisfied: pillow>=6.2.0 in /usr/local/lib/python3.8/dist-packages (from matplotlib>=2.2.2->hrv-analysis) (8.4.0)\n",
            "Requirement already satisfied: future in /usr/local/lib/python3.8/dist-packages (from nolds>=0.4.1->hrv-analysis) (0.16.0)\n",
            "Requirement already satisfied: setuptools in /usr/local/lib/python3.8/dist-packages (from nolds>=0.4.1->hrv-analysis) (57.4.0)\n",
            "Requirement already satisfied: pytz>=2017.3 in /usr/local/lib/python3.8/dist-packages (from pandas>=0.23.4->hrv-analysis) (2022.7.1)\n",
            "Requirement already satisfied: six>=1.5 in /usr/local/lib/python3.8/dist-packages (from python-dateutil>=2.7->matplotlib>=2.2.2->hrv-analysis) (1.15.0)\n",
            "Installing collected packages: nolds, hrv-analysis\n",
            "Successfully installed hrv-analysis-1.0.4 nolds-0.5.2\n"
          ]
        }
      ]
    },
    {
      "cell_type": "code",
      "source": [
        "from google.colab import drive\n",
        "drive.mount('/content/drive')"
      ],
      "metadata": {
        "id": "Jupzuvs9PwQO",
        "outputId": "e4eb4dc5-4d5d-434b-9178-145de5a47c6a",
        "colab": {
          "base_uri": "https://localhost:8080/"
        }
      },
      "execution_count": 2,
      "outputs": [
        {
          "output_type": "stream",
          "name": "stdout",
          "text": [
            "Mounted at /content/drive\n"
          ]
        }
      ]
    },
    {
      "cell_type": "code",
      "source": [
        "import numpy as np\n",
        "import os\n",
        "from glob import glob\n",
        "from hrvanalysis import remove_outliers, remove_ectopic_beats, interpolate_nan_values,get_time_domain_features, get_frequency_domain_features,get_geometrical_features\n",
        "import matplotlib.pyplot as plt"
      ],
      "metadata": {
        "id": "tL2a4TUzSrIQ"
      },
      "execution_count": 3,
      "outputs": []
    },
    {
      "cell_type": "code",
      "source": [
        "#Importando librerías de ML\n",
        "from sklearn.ensemble import RandomForestClassifier\n",
        "from sklearn.model_selection import LeaveOneGroupOut, cross_val_score, GridSearchCV\n",
        "from sklearn import svm\n",
        "from sklearn import metrics\n",
        "from sklearn.metrics import ConfusionMatrixDisplay"
      ],
      "metadata": {
        "id": "0FYTvhA1Mrqe"
      },
      "execution_count": 4,
      "outputs": []
    },
    {
      "cell_type": "code",
      "source": [
        "#Extracting data\n",
        "def import_file(path_file):\n",
        "  with open(path_file,\"r\") as file:\n",
        "    content = file.readlines()\n",
        "  data = [int(x.strip()) for x in content]\n",
        "  return data"
      ],
      "metadata": {
        "id": "LfHoNY2uSX8L"
      },
      "execution_count": 5,
      "outputs": []
    },
    {
      "cell_type": "code",
      "source": [
        "#Función para remover Outliers\n",
        "# Y obtener características\n",
        "def nn_features(list_data, l = 200, h = 1500):\n",
        "  #Removiendo outliers\n",
        "  rr_intervals_without_outliers = remove_outliers(rr_intervals=list_data,  \n",
        "                                                low_rri=l, high_rri=h)\n",
        "  interpolated_rr_intervals = interpolate_nan_values(rr_intervals=rr_intervals_without_outliers, \n",
        "                                                   interpolation_method=\"linear\")\n",
        "  nn_intervals_list = remove_ectopic_beats(rr_intervals=interpolated_rr_intervals, method=\"malik\")\n",
        "  interpolated_nn_intervals = interpolate_nan_values(rr_intervals=nn_intervals_list)\n",
        "  \n",
        "  #Obteniendo características\n",
        "  time_features = get_time_domain_features(interpolated_nn_intervals)\n",
        "  freq_features = get_frequency_domain_features(interpolated_nn_intervals)\n",
        "\n",
        "  list_feature = []\n",
        "  for key in time_features:\n",
        "    list_feature.append(time_features[key])\n",
        "\n",
        "  for key in freq_features:\n",
        "    list_feature.append(freq_features[key])\n",
        "\n",
        "\n",
        "  return list_feature"
      ],
      "metadata": {
        "id": "gmWPMDLltWwy"
      },
      "execution_count": 44,
      "outputs": []
    },
    {
      "cell_type": "code",
      "source": [
        "#Realiza ventaneo rectangular\n",
        "def split(data_list, size = 1):\n",
        "  data_split = np.array_split(data_list,size)\n",
        "  return data_split"
      ],
      "metadata": {
        "id": "fQ2oqErUusfn"
      },
      "execution_count": 10,
      "outputs": []
    },
    {
      "cell_type": "code",
      "source": [
        "#Obteniendo las características por archivo, si window=1 se concidera toda la señal\n",
        "#en caso de ser mayor se hace un ventaneo rectangular\n",
        "def obtain_features(file,label,group=None,window=1): \n",
        "  list_data_features = []\n",
        "  groups,labels = [],[]\n",
        "  if window > 1:\n",
        "    label = (np.tile(label,window)).tolist()\n",
        "    labels.extend(label)\n",
        "    if group is not None:\n",
        "      group = (np.ones(window)*group).tolist()\n",
        "      groups.extend(group)\n",
        "    data_split_list = split(data,window)\n",
        "    for i in range (len(data_split_list)):\n",
        "      list_data_features.append(nn_features(data_split_list[i]))\n",
        "  else: \n",
        "    labels.append(label)\n",
        "    groups.append(group) if group is not None else None\n",
        "    list_data_features.append(nn_features(file))\n",
        "  array_data = np.array(list_data_features)\n",
        "  if group is not None:\n",
        "    return list_data_features,labels,groups\n",
        "  else:\n",
        "    return list_data_features,labels"
      ],
      "metadata": {
        "id": "puhLVSx61pDW"
      },
      "execution_count": 11,
      "outputs": []
    },
    {
      "cell_type": "code",
      "source": [
        "#Obtiene las clases del archivo, es decir verdad o mentira\n",
        "def label_class(file):\n",
        "  root,_ = os.path.splitext(file)\n",
        "  label_object = root.split(\"_\")[-1]\n",
        "  return label_object"
      ],
      "metadata": {
        "id": "yWC1hgQyuIx5"
      },
      "execution_count": 12,
      "outputs": []
    },
    {
      "cell_type": "code",
      "source": [
        "\"\"\"\n",
        "Si Train es True:\n",
        "  Para ello los datos deben estar en subfolders los cuales correspondan\n",
        "  a los nombres de las personas, puesto que el folder principal es datos\n",
        "  fisiologicos.\n",
        "  Con esto se garantiza la asignación de grupos para la validación\n",
        "  Leave One Group Out\n",
        "\n",
        "  En caso de False, no importará la etiqueta de grupos; puesto que esta etiqueta\n",
        "  trata de asignar a la persona a un número. Al asignar por números a los participantes\n",
        "  se reduce el número de iteraciones de la validación cruzada al número de \n",
        "  participantes\n",
        "\n",
        "  De modo que devuelve los features, clases y los grupos\n",
        "\n",
        "Si train es False:\n",
        "\n",
        "  Solo devuelve la clase y features\n",
        "\n",
        "Se asume que los archivos tienen el siguiente formato:\n",
        "\n",
        "ruta de acceso/nombreParticipante_objeto_clase.txt\n",
        "\n",
        "Donde label_class extrae la clase del archivo, asumiendo que tiene el formato \n",
        "indicado\n",
        "\"\"\"\n",
        "def load_data(path,window=1,train=True):\n",
        "  features=[]\n",
        "  groups = []\n",
        "  labels = []\n",
        "  group = 1\n",
        "  if train:\n",
        "    #Instrucción para contar el número de folders en el directorio\n",
        "    for element in os.listdir(path):\n",
        "      #print(element)\n",
        "      if os.path.isdir(os.path.join(path,element)):\n",
        "        #Obtenemos los archivos txt\n",
        "        for subelement in os.listdir (os.path.join(path,element)):\n",
        "          if subelement.endswith(\".txt\"):\n",
        "            file_object = os.path.join(path,element,subelement)\n",
        "            data = import_file(file_object)\n",
        "            #print(group)\n",
        "            label = label_class(file_object)\n",
        "            f,l,g = obtain_features(file=data,label=label,group=group,window=window)\n",
        "            features.extend(f)\n",
        "            groups.extend(g)\n",
        "            labels.extend(l)\n",
        "        group+=1\n",
        "    return np.array(features),np.array(labels),groups\n",
        "  else:\n",
        "    for file_element in glob(path):\n",
        "      data = import_file(file_element)\n",
        "      label = label_class(file_element)\n",
        "      f,l = obtain_features(data,label)\n",
        "      features.extend(f)\n",
        "      labels.extend(l)\n",
        "    return features,np.array(labels)"
      ],
      "metadata": {
        "id": "vYS7zIKn4Uk8"
      },
      "execution_count": 13,
      "outputs": []
    },
    {
      "cell_type": "code",
      "source": [
        "path_test = \"/content/drive/MyDrive/CDSI/Practica_3/datos fisiologicos/Carlos H/Carlos_objeto1_verdad.txt\"\n",
        "\n",
        "data = import_file(path_test)\n",
        "\n",
        "#Visualizando los datos\n",
        "plt.plot(data)\n"
      ],
      "metadata": {
        "colab": {
          "base_uri": "https://localhost:8080/",
          "height": 282
        },
        "id": "PRySpxGAQwzV",
        "outputId": "bb739cf8-9995-4990-c041-150d720ab65d"
      },
      "execution_count": 14,
      "outputs": [
        {
          "output_type": "execute_result",
          "data": {
            "text/plain": [
              "[<matplotlib.lines.Line2D at 0x7fda34f32280>]"
            ]
          },
          "metadata": {},
          "execution_count": 14
        },
        {
          "output_type": "display_data",
          "data": {
            "text/plain": [
              "<Figure size 432x288 with 1 Axes>"
            ],
            "image/png": "[encoded data removed]"
          },
          "metadata": {
            "needs_background": "light"
          }
        }
      ]
    },
    {
      "cell_type": "markdown",
      "source": [
        "## Extrayendo Características"
      ],
      "metadata": {
        "id": "8Ly-Mh8TmRnX"
      }
    },
    {
      "cell_type": "markdown",
      "source": [
        "### Señal completa"
      ],
      "metadata": {
        "id": "3KQk_N36mNZ1"
      }
    },
    {
      "cell_type": "code",
      "source": [
        "#Importando datos para la señal entera\n",
        "\n",
        "path_train = \"/content/drive/MyDrive/CDSI/Practica_3/datos fisiologicos/\"\n",
        "X1,y1,g1 = load_data(path=path_train,\n",
        "                                   window=1,\n",
        "                                   train=True)"
      ],
      "metadata": {
        "colab": {
          "base_uri": "https://localhost:8080/"
        },
        "id": "AGnaCZWM6sBC",
        "outputId": "5fc88778-5143-4757-acdc-ba63392b8154"
      },
      "execution_count": 15,
      "outputs": [
        {
          "output_type": "stream",
          "name": "stdout",
          "text": [
            "0 outlier(s) have been deleted.\n",
            "0 ectopic beat(s) have been deleted with malik rule.\n",
            "0 outlier(s) have been deleted.\n",
            "0 ectopic beat(s) have been deleted with malik rule.\n",
            "0 outlier(s) have been deleted.\n",
            "0 ectopic beat(s) have been deleted with malik rule.\n",
            "0 outlier(s) have been deleted.\n",
            "1 ectopic beat(s) have been deleted with malik rule.\n",
            "0 outlier(s) have been deleted.\n",
            "0 ectopic beat(s) have been deleted with malik rule.\n",
            "0 outlier(s) have been deleted.\n",
            "6 ectopic beat(s) have been deleted with malik rule.\n",
            "0 outlier(s) have been deleted.\n",
            "1 ectopic beat(s) have been deleted with malik rule.\n",
            "0 outlier(s) have been deleted.\n",
            "0 ectopic beat(s) have been deleted with malik rule.\n",
            "0 outlier(s) have been deleted.\n",
            "0 ectopic beat(s) have been deleted with malik rule.\n",
            "0 outlier(s) have been deleted.\n",
            "0 ectopic beat(s) have been deleted with malik rule.\n",
            "0 outlier(s) have been deleted.\n",
            "0 ectopic beat(s) have been deleted with malik rule.\n",
            "0 outlier(s) have been deleted.\n",
            "0 ectopic beat(s) have been deleted with malik rule.\n",
            "0 outlier(s) have been deleted.\n",
            "1 ectopic beat(s) have been deleted with malik rule.\n",
            "0 outlier(s) have been deleted.\n",
            "1 ectopic beat(s) have been deleted with malik rule.\n",
            "0 outlier(s) have been deleted.\n",
            "2 ectopic beat(s) have been deleted with malik rule.\n",
            "0 outlier(s) have been deleted.\n",
            "0 ectopic beat(s) have been deleted with malik rule.\n",
            "0 outlier(s) have been deleted.\n",
            "0 ectopic beat(s) have been deleted with malik rule.\n",
            "0 outlier(s) have been deleted.\n",
            "0 ectopic beat(s) have been deleted with malik rule.\n",
            "0 outlier(s) have been deleted.\n",
            "0 ectopic beat(s) have been deleted with malik rule.\n",
            "0 outlier(s) have been deleted.\n",
            "0 ectopic beat(s) have been deleted with malik rule.\n",
            "0 outlier(s) have been deleted.\n",
            "0 ectopic beat(s) have been deleted with malik rule.\n",
            "0 outlier(s) have been deleted.\n",
            "0 ectopic beat(s) have been deleted with malik rule.\n",
            "0 outlier(s) have been deleted.\n",
            "0 ectopic beat(s) have been deleted with malik rule.\n",
            "0 outlier(s) have been deleted.\n",
            "0 ectopic beat(s) have been deleted with malik rule.\n",
            "0 outlier(s) have been deleted.\n",
            "0 ectopic beat(s) have been deleted with malik rule.\n",
            "0 outlier(s) have been deleted.\n",
            "0 ectopic beat(s) have been deleted with malik rule.\n",
            "0 outlier(s) have been deleted.\n",
            "0 ectopic beat(s) have been deleted with malik rule.\n",
            "0 outlier(s) have been deleted.\n",
            "0 ectopic beat(s) have been deleted with malik rule.\n",
            "0 outlier(s) have been deleted.\n",
            "0 ectopic beat(s) have been deleted with malik rule.\n",
            "0 outlier(s) have been deleted.\n",
            "0 ectopic beat(s) have been deleted with malik rule.\n",
            "0 outlier(s) have been deleted.\n",
            "0 ectopic beat(s) have been deleted with malik rule.\n",
            "0 outlier(s) have been deleted.\n",
            "0 ectopic beat(s) have been deleted with malik rule.\n",
            "0 outlier(s) have been deleted.\n",
            "0 ectopic beat(s) have been deleted with malik rule.\n",
            "0 outlier(s) have been deleted.\n",
            "0 ectopic beat(s) have been deleted with malik rule.\n",
            "0 outlier(s) have been deleted.\n",
            "0 ectopic beat(s) have been deleted with malik rule.\n",
            "0 outlier(s) have been deleted.\n",
            "0 ectopic beat(s) have been deleted with malik rule.\n",
            "0 outlier(s) have been deleted.\n",
            "0 ectopic beat(s) have been deleted with malik rule.\n"
          ]
        }
      ]
    },
    {
      "cell_type": "markdown",
      "source": [
        "### Señal diviida en 3"
      ],
      "metadata": {
        "id": "WsNMgwkjb_6j"
      }
    },
    {
      "cell_type": "code",
      "source": [
        "#Importando datos para una señal recortada en 3 sin overlapping cada ventana\n",
        "\n",
        "path_train = \"/content/drive/MyDrive/CDSI/Practica_3/datos fisiologicos/\"\n",
        "X3,y3,g3 = load_data(path=path_train,\n",
        "                                   window=5,\n",
        "                                   train=True)"
      ],
      "metadata": {
        "colab": {
          "base_uri": "https://localhost:8080/"
        },
        "id": "KSoc3NWeRGmb",
        "outputId": "5260cc07-9de4-40d8-8f6c-f0126d384d33"
      },
      "execution_count": 30,
      "outputs": [
        {
          "output_type": "stream",
          "name": "stdout",
          "text": [
            "0 outlier(s) have been deleted.\n",
            "0 ectopic beat(s) have been deleted with malik rule.\n",
            "0 outlier(s) have been deleted.\n",
            "0 ectopic beat(s) have been deleted with malik rule.\n",
            "0 outlier(s) have been deleted.\n",
            "0 ectopic beat(s) have been deleted with malik rule.\n",
            "0 outlier(s) have been deleted.\n",
            "0 ectopic beat(s) have been deleted with malik rule.\n",
            "0 outlier(s) have been deleted.\n",
            "0 ectopic beat(s) have been deleted with malik rule.\n",
            "0 outlier(s) have been deleted.\n",
            "0 ectopic beat(s) have been deleted with malik rule.\n",
            "0 outlier(s) have been deleted.\n",
            "0 ectopic beat(s) have been deleted with malik rule.\n",
            "0 outlier(s) have been deleted.\n",
            "0 ectopic beat(s) have been deleted with malik rule.\n",
            "0 outlier(s) have been deleted.\n",
            "0 ectopic beat(s) have been deleted with malik rule.\n",
            "0 outlier(s) have been deleted.\n",
            "0 ectopic beat(s) have been deleted with malik rule.\n",
            "0 outlier(s) have been deleted.\n",
            "0 ectopic beat(s) have been deleted with malik rule.\n",
            "0 outlier(s) have been deleted.\n",
            "0 ectopic beat(s) have been deleted with malik rule.\n",
            "0 outlier(s) have been deleted.\n",
            "0 ectopic beat(s) have been deleted with malik rule.\n",
            "0 outlier(s) have been deleted.\n",
            "0 ectopic beat(s) have been deleted with malik rule.\n",
            "0 outlier(s) have been deleted.\n",
            "0 ectopic beat(s) have been deleted with malik rule.\n",
            "0 outlier(s) have been deleted.\n",
            "0 ectopic beat(s) have been deleted with malik rule.\n",
            "0 outlier(s) have been deleted.\n",
            "0 ectopic beat(s) have been deleted with malik rule.\n",
            "0 outlier(s) have been deleted.\n",
            "0 ectopic beat(s) have been deleted with malik rule.\n",
            "0 outlier(s) have been deleted.\n",
            "0 ectopic beat(s) have been deleted with malik rule.\n",
            "0 outlier(s) have been deleted.\n",
            "0 ectopic beat(s) have been deleted with malik rule.\n",
            "0 outlier(s) have been deleted.\n",
            "0 ectopic beat(s) have been deleted with malik rule.\n",
            "0 outlier(s) have been deleted.\n",
            "0 ectopic beat(s) have been deleted with malik rule.\n",
            "0 outlier(s) have been deleted.\n",
            "0 ectopic beat(s) have been deleted with malik rule.\n",
            "0 outlier(s) have been deleted.\n",
            "0 ectopic beat(s) have been deleted with malik rule.\n",
            "0 outlier(s) have been deleted.\n",
            "0 ectopic beat(s) have been deleted with malik rule.\n",
            "0 outlier(s) have been deleted.\n",
            "0 ectopic beat(s) have been deleted with malik rule.\n",
            "0 outlier(s) have been deleted.\n",
            "0 ectopic beat(s) have been deleted with malik rule.\n",
            "0 outlier(s) have been deleted.\n",
            "0 ectopic beat(s) have been deleted with malik rule.\n",
            "0 outlier(s) have been deleted.\n",
            "0 ectopic beat(s) have been deleted with malik rule.\n",
            "0 outlier(s) have been deleted.\n",
            "0 ectopic beat(s) have been deleted with malik rule.\n",
            "0 outlier(s) have been deleted.\n",
            "0 ectopic beat(s) have been deleted with malik rule.\n",
            "0 outlier(s) have been deleted.\n",
            "0 ectopic beat(s) have been deleted with malik rule.\n",
            "0 outlier(s) have been deleted.\n",
            "0 ectopic beat(s) have been deleted with malik rule.\n",
            "0 outlier(s) have been deleted.\n",
            "0 ectopic beat(s) have been deleted with malik rule.\n",
            "0 outlier(s) have been deleted.\n",
            "0 ectopic beat(s) have been deleted with malik rule.\n",
            "0 outlier(s) have been deleted.\n",
            "0 ectopic beat(s) have been deleted with malik rule.\n",
            "0 outlier(s) have been deleted.\n",
            "0 ectopic beat(s) have been deleted with malik rule.\n",
            "0 outlier(s) have been deleted.\n",
            "0 ectopic beat(s) have been deleted with malik rule.\n",
            "0 outlier(s) have been deleted.\n",
            "0 ectopic beat(s) have been deleted with malik rule.\n",
            "0 outlier(s) have been deleted.\n",
            "0 ectopic beat(s) have been deleted with malik rule.\n",
            "0 outlier(s) have been deleted.\n",
            "0 ectopic beat(s) have been deleted with malik rule.\n",
            "0 outlier(s) have been deleted.\n",
            "0 ectopic beat(s) have been deleted with malik rule.\n",
            "0 outlier(s) have been deleted.\n",
            "0 ectopic beat(s) have been deleted with malik rule.\n",
            "0 outlier(s) have been deleted.\n",
            "0 ectopic beat(s) have been deleted with malik rule.\n",
            "0 outlier(s) have been deleted.\n",
            "0 ectopic beat(s) have been deleted with malik rule.\n",
            "0 outlier(s) have been deleted.\n",
            "0 ectopic beat(s) have been deleted with malik rule.\n",
            "0 outlier(s) have been deleted.\n",
            "0 ectopic beat(s) have been deleted with malik rule.\n",
            "0 outlier(s) have been deleted.\n",
            "0 ectopic beat(s) have been deleted with malik rule.\n",
            "0 outlier(s) have been deleted.\n",
            "0 ectopic beat(s) have been deleted with malik rule.\n",
            "0 outlier(s) have been deleted.\n",
            "0 ectopic beat(s) have been deleted with malik rule.\n",
            "0 outlier(s) have been deleted.\n",
            "0 ectopic beat(s) have been deleted with malik rule.\n"
          ]
        },
        {
          "output_type": "stream",
          "name": "stderr",
          "text": [
            "/usr/local/lib/python3.8/dist-packages/scipy/signal/_spectral_py.py:2014: UserWarning: nperseg = 256 is greater than input length  = 100, using nperseg = 100\n",
            "  warnings.warn('nperseg = {0:d} is greater than input length '\n",
            "/usr/local/lib/python3.8/dist-packages/scipy/signal/_spectral_py.py:2014: UserWarning: nperseg = 256 is greater than input length  = 98, using nperseg = 98\n",
            "  warnings.warn('nperseg = {0:d} is greater than input length '\n",
            "/usr/local/lib/python3.8/dist-packages/scipy/signal/_spectral_py.py:2014: UserWarning: nperseg = 256 is greater than input length  = 99, using nperseg = 99\n",
            "  warnings.warn('nperseg = {0:d} is greater than input length '\n",
            "/usr/local/lib/python3.8/dist-packages/scipy/signal/_spectral_py.py:2014: UserWarning: nperseg = 256 is greater than input length  = 97, using nperseg = 97\n",
            "  warnings.warn('nperseg = {0:d} is greater than input length '\n",
            "/usr/local/lib/python3.8/dist-packages/scipy/signal/_spectral_py.py:2014: UserWarning: nperseg = 256 is greater than input length  = 92, using nperseg = 92\n",
            "  warnings.warn('nperseg = {0:d} is greater than input length '\n"
          ]
        },
        {
          "output_type": "stream",
          "name": "stdout",
          "text": [
            "0 outlier(s) have been deleted.\n",
            "0 ectopic beat(s) have been deleted with malik rule.\n",
            "0 outlier(s) have been deleted.\n",
            "0 ectopic beat(s) have been deleted with malik rule.\n",
            "0 outlier(s) have been deleted.\n",
            "0 ectopic beat(s) have been deleted with malik rule.\n",
            "0 outlier(s) have been deleted.\n",
            "0 ectopic beat(s) have been deleted with malik rule.\n",
            "0 outlier(s) have been deleted.\n",
            "0 ectopic beat(s) have been deleted with malik rule.\n",
            "0 outlier(s) have been deleted.\n",
            "0 ectopic beat(s) have been deleted with malik rule.\n",
            "0 outlier(s) have been deleted.\n",
            "0 ectopic beat(s) have been deleted with malik rule.\n",
            "0 outlier(s) have been deleted.\n",
            "0 ectopic beat(s) have been deleted with malik rule.\n",
            "0 outlier(s) have been deleted.\n",
            "0 ectopic beat(s) have been deleted with malik rule.\n",
            "0 outlier(s) have been deleted.\n",
            "0 ectopic beat(s) have been deleted with malik rule.\n",
            "0 outlier(s) have been deleted.\n",
            "0 ectopic beat(s) have been deleted with malik rule.\n",
            "0 outlier(s) have been deleted.\n",
            "0 ectopic beat(s) have been deleted with malik rule.\n",
            "0 outlier(s) have been deleted.\n",
            "0 ectopic beat(s) have been deleted with malik rule.\n",
            "0 outlier(s) have been deleted.\n",
            "0 ectopic beat(s) have been deleted with malik rule.\n",
            "0 outlier(s) have been deleted.\n",
            "0 ectopic beat(s) have been deleted with malik rule.\n",
            "0 outlier(s) have been deleted.\n",
            "0 ectopic beat(s) have been deleted with malik rule.\n",
            "0 outlier(s) have been deleted.\n",
            "0 ectopic beat(s) have been deleted with malik rule.\n",
            "0 outlier(s) have been deleted.\n",
            "0 ectopic beat(s) have been deleted with malik rule.\n",
            "0 outlier(s) have been deleted.\n",
            "0 ectopic beat(s) have been deleted with malik rule.\n",
            "0 outlier(s) have been deleted.\n",
            "0 ectopic beat(s) have been deleted with malik rule.\n",
            "0 outlier(s) have been deleted.\n",
            "0 ectopic beat(s) have been deleted with malik rule.\n",
            "0 outlier(s) have been deleted.\n",
            "0 ectopic beat(s) have been deleted with malik rule.\n",
            "0 outlier(s) have been deleted.\n",
            "0 ectopic beat(s) have been deleted with malik rule.\n",
            "0 outlier(s) have been deleted.\n",
            "0 ectopic beat(s) have been deleted with malik rule.\n",
            "0 outlier(s) have been deleted.\n",
            "0 ectopic beat(s) have been deleted with malik rule.\n",
            "0 outlier(s) have been deleted.\n",
            "0 ectopic beat(s) have been deleted with malik rule.\n",
            "0 outlier(s) have been deleted.\n",
            "0 ectopic beat(s) have been deleted with malik rule.\n",
            "0 outlier(s) have been deleted.\n",
            "0 ectopic beat(s) have been deleted with malik rule.\n",
            "0 outlier(s) have been deleted.\n",
            "0 ectopic beat(s) have been deleted with malik rule.\n",
            "0 outlier(s) have been deleted.\n",
            "0 ectopic beat(s) have been deleted with malik rule.\n",
            "0 outlier(s) have been deleted.\n",
            "0 ectopic beat(s) have been deleted with malik rule.\n",
            "0 outlier(s) have been deleted.\n",
            "0 ectopic beat(s) have been deleted with malik rule.\n",
            "0 outlier(s) have been deleted.\n",
            "0 ectopic beat(s) have been deleted with malik rule.\n",
            "0 outlier(s) have been deleted.\n",
            "0 ectopic beat(s) have been deleted with malik rule.\n",
            "0 outlier(s) have been deleted.\n",
            "0 ectopic beat(s) have been deleted with malik rule.\n",
            "0 outlier(s) have been deleted.\n",
            "0 ectopic beat(s) have been deleted with malik rule.\n",
            "0 outlier(s) have been deleted.\n",
            "0 ectopic beat(s) have been deleted with malik rule.\n",
            "0 outlier(s) have been deleted.\n",
            "0 ectopic beat(s) have been deleted with malik rule.\n",
            "0 outlier(s) have been deleted.\n",
            "0 ectopic beat(s) have been deleted with malik rule.\n",
            "0 outlier(s) have been deleted.\n",
            "0 ectopic beat(s) have been deleted with malik rule.\n",
            "0 outlier(s) have been deleted.\n",
            "0 ectopic beat(s) have been deleted with malik rule.\n",
            "0 outlier(s) have been deleted.\n",
            "0 ectopic beat(s) have been deleted with malik rule.\n",
            "0 outlier(s) have been deleted.\n",
            "0 ectopic beat(s) have been deleted with malik rule.\n",
            "0 outlier(s) have been deleted.\n",
            "0 ectopic beat(s) have been deleted with malik rule.\n",
            "0 outlier(s) have been deleted.\n",
            "0 ectopic beat(s) have been deleted with malik rule.\n",
            "0 outlier(s) have been deleted.\n",
            "0 ectopic beat(s) have been deleted with malik rule.\n",
            "0 outlier(s) have been deleted.\n",
            "0 ectopic beat(s) have been deleted with malik rule.\n",
            "0 outlier(s) have been deleted.\n",
            "0 ectopic beat(s) have been deleted with malik rule.\n",
            "0 outlier(s) have been deleted.\n",
            "0 ectopic beat(s) have been deleted with malik rule.\n",
            "0 outlier(s) have been deleted.\n",
            "0 ectopic beat(s) have been deleted with malik rule.\n",
            "0 outlier(s) have been deleted.\n",
            "0 ectopic beat(s) have been deleted with malik rule.\n",
            "0 outlier(s) have been deleted.\n",
            "0 ectopic beat(s) have been deleted with malik rule.\n",
            "0 outlier(s) have been deleted.\n",
            "0 ectopic beat(s) have been deleted with malik rule.\n",
            "0 outlier(s) have been deleted.\n",
            "0 ectopic beat(s) have been deleted with malik rule.\n",
            "0 outlier(s) have been deleted.\n",
            "0 ectopic beat(s) have been deleted with malik rule.\n",
            "0 outlier(s) have been deleted.\n",
            "0 ectopic beat(s) have been deleted with malik rule.\n",
            "0 outlier(s) have been deleted.\n",
            "0 ectopic beat(s) have been deleted with malik rule.\n",
            "0 outlier(s) have been deleted.\n",
            "0 ectopic beat(s) have been deleted with malik rule.\n",
            "0 outlier(s) have been deleted.\n",
            "0 ectopic beat(s) have been deleted with malik rule.\n",
            "0 outlier(s) have been deleted.\n",
            "0 ectopic beat(s) have been deleted with malik rule.\n",
            "0 outlier(s) have been deleted.\n",
            "0 ectopic beat(s) have been deleted with malik rule.\n",
            "0 outlier(s) have been deleted.\n",
            "0 ectopic beat(s) have been deleted with malik rule.\n",
            "0 outlier(s) have been deleted.\n",
            "0 ectopic beat(s) have been deleted with malik rule.\n",
            "0 outlier(s) have been deleted.\n",
            "0 ectopic beat(s) have been deleted with malik rule.\n",
            "0 outlier(s) have been deleted.\n",
            "0 ectopic beat(s) have been deleted with malik rule.\n",
            "0 outlier(s) have been deleted.\n",
            "0 ectopic beat(s) have been deleted with malik rule.\n",
            "0 outlier(s) have been deleted.\n",
            "0 ectopic beat(s) have been deleted with malik rule.\n",
            "0 outlier(s) have been deleted.\n",
            "0 ectopic beat(s) have been deleted with malik rule.\n",
            "0 outlier(s) have been deleted.\n",
            "0 ectopic beat(s) have been deleted with malik rule.\n",
            "0 outlier(s) have been deleted.\n",
            "0 ectopic beat(s) have been deleted with malik rule.\n",
            "0 outlier(s) have been deleted.\n",
            "0 ectopic beat(s) have been deleted with malik rule.\n",
            "0 outlier(s) have been deleted.\n",
            "0 ectopic beat(s) have been deleted with malik rule.\n",
            "0 outlier(s) have been deleted.\n",
            "0 ectopic beat(s) have been deleted with malik rule.\n",
            "0 outlier(s) have been deleted.\n",
            "0 ectopic beat(s) have been deleted with malik rule.\n",
            "0 outlier(s) have been deleted.\n",
            "0 ectopic beat(s) have been deleted with malik rule.\n",
            "0 outlier(s) have been deleted.\n",
            "0 ectopic beat(s) have been deleted with malik rule.\n",
            "0 outlier(s) have been deleted.\n",
            "0 ectopic beat(s) have been deleted with malik rule.\n",
            "0 outlier(s) have been deleted.\n",
            "0 ectopic beat(s) have been deleted with malik rule.\n",
            "0 outlier(s) have been deleted.\n",
            "0 ectopic beat(s) have been deleted with malik rule.\n",
            "0 outlier(s) have been deleted.\n",
            "0 ectopic beat(s) have been deleted with malik rule.\n",
            "0 outlier(s) have been deleted.\n",
            "0 ectopic beat(s) have been deleted with malik rule.\n",
            "0 outlier(s) have been deleted.\n",
            "0 ectopic beat(s) have been deleted with malik rule.\n",
            "0 outlier(s) have been deleted.\n",
            "0 ectopic beat(s) have been deleted with malik rule.\n",
            "0 outlier(s) have been deleted.\n",
            "0 ectopic beat(s) have been deleted with malik rule.\n",
            "0 outlier(s) have been deleted.\n",
            "0 ectopic beat(s) have been deleted with malik rule.\n",
            "0 outlier(s) have been deleted.\n",
            "0 ectopic beat(s) have been deleted with malik rule.\n",
            "0 outlier(s) have been deleted.\n",
            "0 ectopic beat(s) have been deleted with malik rule.\n",
            "0 outlier(s) have been deleted.\n",
            "0 ectopic beat(s) have been deleted with malik rule.\n",
            "0 outlier(s) have been deleted.\n",
            "0 ectopic beat(s) have been deleted with malik rule.\n",
            "0 outlier(s) have been deleted.\n",
            "0 ectopic beat(s) have been deleted with malik rule.\n",
            "0 outlier(s) have been deleted.\n",
            "0 ectopic beat(s) have been deleted with malik rule.\n",
            "0 outlier(s) have been deleted.\n",
            "0 ectopic beat(s) have been deleted with malik rule.\n",
            "0 outlier(s) have been deleted.\n",
            "0 ectopic beat(s) have been deleted with malik rule.\n",
            "0 outlier(s) have been deleted.\n",
            "0 ectopic beat(s) have been deleted with malik rule.\n",
            "0 outlier(s) have been deleted.\n",
            "0 ectopic beat(s) have been deleted with malik rule.\n",
            "0 outlier(s) have been deleted.\n",
            "0 ectopic beat(s) have been deleted with malik rule.\n",
            "0 outlier(s) have been deleted.\n",
            "0 ectopic beat(s) have been deleted with malik rule.\n",
            "0 outlier(s) have been deleted.\n",
            "0 ectopic beat(s) have been deleted with malik rule.\n",
            "0 outlier(s) have been deleted.\n",
            "0 ectopic beat(s) have been deleted with malik rule.\n",
            "0 outlier(s) have been deleted.\n",
            "0 ectopic beat(s) have been deleted with malik rule.\n",
            "0 outlier(s) have been deleted.\n",
            "0 ectopic beat(s) have been deleted with malik rule.\n",
            "0 outlier(s) have been deleted.\n",
            "0 ectopic beat(s) have been deleted with malik rule.\n",
            "0 outlier(s) have been deleted.\n",
            "0 ectopic beat(s) have been deleted with malik rule.\n",
            "0 outlier(s) have been deleted.\n",
            "0 ectopic beat(s) have been deleted with malik rule.\n",
            "0 outlier(s) have been deleted.\n",
            "0 ectopic beat(s) have been deleted with malik rule.\n",
            "0 outlier(s) have been deleted.\n",
            "0 ectopic beat(s) have been deleted with malik rule.\n",
            "0 outlier(s) have been deleted.\n",
            "0 ectopic beat(s) have been deleted with malik rule.\n",
            "0 outlier(s) have been deleted.\n",
            "0 ectopic beat(s) have been deleted with malik rule.\n",
            "0 outlier(s) have been deleted.\n",
            "0 ectopic beat(s) have been deleted with malik rule.\n",
            "0 outlier(s) have been deleted.\n",
            "0 ectopic beat(s) have been deleted with malik rule.\n",
            "0 outlier(s) have been deleted.\n",
            "0 ectopic beat(s) have been deleted with malik rule.\n",
            "0 outlier(s) have been deleted.\n",
            "0 ectopic beat(s) have been deleted with malik rule.\n",
            "0 outlier(s) have been deleted.\n",
            "0 ectopic beat(s) have been deleted with malik rule.\n",
            "0 outlier(s) have been deleted.\n",
            "0 ectopic beat(s) have been deleted with malik rule.\n",
            "0 outlier(s) have been deleted.\n",
            "0 ectopic beat(s) have been deleted with malik rule.\n",
            "0 outlier(s) have been deleted.\n",
            "0 ectopic beat(s) have been deleted with malik rule.\n",
            "0 outlier(s) have been deleted.\n",
            "0 ectopic beat(s) have been deleted with malik rule.\n",
            "0 outlier(s) have been deleted.\n",
            "0 ectopic beat(s) have been deleted with malik rule.\n",
            "0 outlier(s) have been deleted.\n",
            "0 ectopic beat(s) have been deleted with malik rule.\n",
            "0 outlier(s) have been deleted.\n",
            "0 ectopic beat(s) have been deleted with malik rule.\n",
            "0 outlier(s) have been deleted.\n",
            "0 ectopic beat(s) have been deleted with malik rule.\n",
            "0 outlier(s) have been deleted.\n",
            "0 ectopic beat(s) have been deleted with malik rule.\n",
            "0 outlier(s) have been deleted.\n",
            "0 ectopic beat(s) have been deleted with malik rule.\n",
            "0 outlier(s) have been deleted.\n",
            "0 ectopic beat(s) have been deleted with malik rule.\n",
            "0 outlier(s) have been deleted.\n",
            "0 ectopic beat(s) have been deleted with malik rule.\n",
            "0 outlier(s) have been deleted.\n",
            "0 ectopic beat(s) have been deleted with malik rule.\n",
            "0 outlier(s) have been deleted.\n",
            "0 ectopic beat(s) have been deleted with malik rule.\n",
            "0 outlier(s) have been deleted.\n",
            "0 ectopic beat(s) have been deleted with malik rule.\n",
            "0 outlier(s) have been deleted.\n",
            "0 ectopic beat(s) have been deleted with malik rule.\n",
            "0 outlier(s) have been deleted.\n",
            "0 ectopic beat(s) have been deleted with malik rule.\n",
            "0 outlier(s) have been deleted.\n",
            "0 ectopic beat(s) have been deleted with malik rule.\n",
            "0 outlier(s) have been deleted.\n",
            "0 ectopic beat(s) have been deleted with malik rule.\n",
            "0 outlier(s) have been deleted.\n",
            "0 ectopic beat(s) have been deleted with malik rule.\n",
            "0 outlier(s) have been deleted.\n",
            "0 ectopic beat(s) have been deleted with malik rule.\n"
          ]
        }
      ]
    },
    {
      "cell_type": "markdown",
      "source": [
        "##Clasificación"
      ],
      "metadata": {
        "id": "Bp1LvFtnbuDY"
      }
    },
    {
      "cell_type": "markdown",
      "source": [
        "### SVM"
      ],
      "metadata": {
        "id": "WctVUj_Kb2jO"
      }
    },
    {
      "cell_type": "markdown",
      "source": [
        "#### Señal Entera"
      ],
      "metadata": {
        "id": "HWhmssoyigNs"
      }
    },
    {
      "cell_type": "code",
      "source": [
        "#Aplicando validación cruzada Leave One Group Out para\n",
        "#la señal entera con el modelo svm\n",
        "sv_m = svm.SVC(random_state=42)\n",
        "logo = LeaveOneGroupOut()\n",
        "scores = []\n",
        "\n",
        "for train_index, test_index in logo.split(X1, y1, g1):\n",
        "    x_train,x_test = X1[train_index],X1[test_index]\n",
        "    y_train,y_test = y1[train_index], y1[test_index]\n",
        "    sv_m.fit(x_train,y_train)\n",
        "    score = sv_m.score(x_test,y_test)\n",
        "    scores.append(score)\n",
        "\n",
        "# Imprimir resultados\n",
        "print(\"Con el modelo de SVM se tiene un accuracy de %0.2f y una std: %0.2f\" \n",
        "% (np.mean(scores), np.std(scores) * 2))"
      ],
      "metadata": {
        "colab": {
          "base_uri": "https://localhost:8080/"
        },
        "id": "_HXzGnHxMi6v",
        "outputId": "ddab0f66-55c2-40a2-83a1-6a6aaba09ab1"
      },
      "execution_count": 60,
      "outputs": [
        {
          "output_type": "stream",
          "name": "stdout",
          "text": [
            "Con el modelo de SVM se tiene un accuracy de 0.36 y una std: 0.26\n"
          ]
        }
      ]
    },
    {
      "cell_type": "code",
      "source": [
        "\"\"\"\n",
        "Aplicando enfoque greedy para evaluar hiperparametros del svm\n",
        "de la señal entera\n",
        "\"\"\"\n",
        "\n",
        "param_grid_svm = {'C': [0.1, 1, 10],\n",
        "                  'gamma': ['scale', 'auto']} #hiperparametros del svm\n",
        "\n",
        "grid_search_svm = GridSearchCV(sv_m,param_grid=param_grid_svm,cv=logo,n_jobs=-1)\n",
        "\n",
        "#Ajustando el modelo a los datos de entrenamiento\n",
        "grid_search_svm.fit(X=X1,y=y1,groups=g1)\n",
        "best_svm = grid_search_svm.best_estimator_\n",
        "print(\"Mejores parámetros encontrados: \", grid_search_svm.best_params_)\n",
        "print(\"Precisión media en validación cruzada: \", grid_search_svm.best_score_)"
      ],
      "metadata": {
        "colab": {
          "base_uri": "https://localhost:8080/"
        },
        "id": "TKh1S5V9YaVz",
        "outputId": "5334ea7d-4776-453a-88e7-4a3a482ba415"
      },
      "execution_count": 61,
      "outputs": [
        {
          "output_type": "stream",
          "name": "stdout",
          "text": [
            "Mejores parámetros encontrados:  {'C': 0.1, 'gamma': 'scale'}\n",
            "Precisión media en validación cruzada:  0.41111111111111115\n"
          ]
        }
      ]
    },
    {
      "cell_type": "markdown",
      "source": [
        "#### Señal Partida en 3"
      ],
      "metadata": {
        "id": "v2uzuoZ8imoe"
      }
    },
    {
      "cell_type": "code",
      "source": [
        "#Aplicando validación cruzada Leave One Group Out para testing de una señal partida en 3\n",
        "#la señal entera con el modelo svm\n",
        "\n",
        "sv_m3 = svm.SVC()\n",
        "logo = LeaveOneGroupOut()\n",
        "scores = []\n",
        "\n",
        "for train_index, test_index in logo.split(X3, y3, g3):\n",
        "    x_train,x_test = X3[train_index],X3[test_index]\n",
        "    y_train,y_test = y3[train_index], y3[test_index]\n",
        "    sv_m3.fit(x_train,y_train)\n",
        "    score = sv_m3.score(x_test,y_test)\n",
        "    scores.append(score)\n",
        "\n",
        "# Imprimir resultados\n",
        "print(\"Con el modelo de SVM se tiene un accuracy de %0.2f y una std: %0.2f\" \n",
        "% (np.mean(scores), np.std(scores) * 2))"
      ],
      "metadata": {
        "colab": {
          "base_uri": "https://localhost:8080/"
        },
        "id": "RBgFNMuaUrRg",
        "outputId": "acf773cc-25f5-4a55-82b0-ec3c1a01bdfb"
      },
      "execution_count": 62,
      "outputs": [
        {
          "output_type": "stream",
          "name": "stdout",
          "text": [
            "Con el modelo de SVM se tiene un accuracy de 0.41 y una std: 0.25\n"
          ]
        }
      ]
    },
    {
      "cell_type": "code",
      "source": [
        "\"\"\"\n",
        "Aplicando enfoque greedy para evaluar hiperparametros del svm\n",
        "de la señal con 3 ventanas sin overshifting\n",
        "\"\"\"\n",
        "\n",
        "param_grid_svm = {'C': [0.1, 1, 10],\n",
        "                  'gamma': ['scale', 'auto']} #hiperparametros del svm\n",
        "\n",
        "grid_search_svm = GridSearchCV(sv_m3,param_grid=param_grid_svm,cv=logo,n_jobs=-1)\n",
        "\n",
        "#Ajustando el modelo a los datos de entrenamiento\n",
        "grid_search_svm.fit(X=X3,y=y3,groups=g3)\n",
        "best_svm = grid_search_svm.best_estimator_\n",
        "print(\"Mejores parámetros encontrados: \", grid_search_svm.best_params_)\n",
        "print(\"Precisión media en validación cruzada: \", grid_search_svm.best_score_)"
      ],
      "metadata": {
        "colab": {
          "base_uri": "https://localhost:8080/"
        },
        "id": "grgwSg24Yvly",
        "outputId": "25ee58b6-426f-4408-f81b-b33c6fc5eaff"
      },
      "execution_count": 63,
      "outputs": [
        {
          "output_type": "stream",
          "name": "stdout",
          "text": [
            "Mejores parámetros encontrados:  {'C': 0.1, 'gamma': 'scale'}\n",
            "Precisión media en validación cruzada:  0.41111111111111115\n"
          ]
        }
      ]
    },
    {
      "cell_type": "markdown",
      "source": [],
      "metadata": {
        "id": "FMc8ltOci6rP"
      }
    },
    {
      "cell_type": "markdown",
      "source": [
        "### Random Forest"
      ],
      "metadata": {
        "id": "t2mFPmjfb6zH"
      }
    },
    {
      "cell_type": "markdown",
      "source": [
        "#### Señal Entera"
      ],
      "metadata": {
        "id": "ZTTaYksqi4md"
      }
    },
    {
      "cell_type": "code",
      "source": [
        "#Aplicando validación cruzada Leave One Group Out para\n",
        "#la señal entera con el modelo Random Forest \n",
        "\n",
        "r_f = RandomForestClassifier()\n",
        "logo = LeaveOneGroupOut()\n",
        "scores = []\n",
        "\n",
        "for train_index, test_index in logo.split(X1, y1, g1):\n",
        "    x_train,x_test = X1[train_index],X1[test_index]\n",
        "    y_train,y_test = y1[train_index], y1[test_index]\n",
        "    r_f.fit(x_train,y_train)\n",
        "    score = r_f.score(x_test,y_test)\n",
        "    scores.append(score)\n",
        "\n",
        "# Imprimir resultados\n",
        "print(\"Con el modelo de Random Forest se tiene un accuracy de %0.2f y una std: %0.2f\" \n",
        "% (np.mean(scores), np.std(scores) * 2))"
      ],
      "metadata": {
        "colab": {
          "base_uri": "https://localhost:8080/"
        },
        "id": "c8WaIBRGaXVR",
        "outputId": "40a7626f-7539-4e60-ecfa-d1bd93f6a366"
      },
      "execution_count": 64,
      "outputs": [
        {
          "output_type": "stream",
          "name": "stdout",
          "text": [
            "Con el modelo de Random Forest se tiene un accuracy de 0.52 y una std: 0.38\n"
          ]
        }
      ]
    },
    {
      "cell_type": "code",
      "source": [
        "\"\"\"\n",
        "Aplincando enfoque greedy para la señal entera con Random Forest\n",
        "\"\"\"\n",
        "\n",
        "param_grid_rf = {'n_estimators': [100, 200, 300],\n",
        "                 'max_depth': [None, 10, 20]} #hiperparametros del Random Forest\n",
        "\n",
        "grid_search_rf = GridSearchCV(r_f,param_grid=param_grid_rf,cv=logo,n_jobs=-1)\n",
        "\n",
        "#Ajustando el modelo a los datos de entrenamiento\n",
        "grid_search_rf.fit(X=X1,y=y1,groups=g1)\n",
        "best_forest = grid_search_rf.best_estimator_\n",
        "print(\"Mejores parámetros encontrados: \", grid_search_rf.best_params_)\n",
        "print(\"Precisión media en validación cruzada: \", grid_search_rf.best_score_)"
      ],
      "metadata": {
        "colab": {
          "base_uri": "https://localhost:8080/"
        },
        "id": "k1aJZkYicMDi",
        "outputId": "e42ec289-e644-4e7b-d48f-4314821d8e9b"
      },
      "execution_count": 65,
      "outputs": [
        {
          "output_type": "stream",
          "name": "stdout",
          "text": [
            "Mejores parámetros encontrados:  {'max_depth': 20, 'n_estimators': 300}\n",
            "Precisión media en validación cruzada:  0.5611111111111111\n"
          ]
        }
      ]
    },
    {
      "cell_type": "markdown",
      "source": [
        "#### Señal Partida en 3"
      ],
      "metadata": {
        "id": "6W7UwJLri9xC"
      }
    },
    {
      "cell_type": "code",
      "source": [
        "#Aplicando validación cruzada Leave One Group Out para testing de una señal partida en 3\n",
        "#la señal entera con el modelo Random Forest\n",
        "\n",
        "r_f3 = RandomForestClassifier()\n",
        "logo = LeaveOneGroupOut()\n",
        "scores = []\n",
        "\n",
        "for train_index, test_index in logo.split(X3, y3, g3):\n",
        "    x_train,x_test = X3[train_index],X3[test_index]\n",
        "    y_train,y_test = y3[train_index], y3[test_index]\n",
        "    r_f3.fit(x_train,y_train)\n",
        "    score = r_f3.score(x_test,y_test)\n",
        "    scores.append(score)\n",
        "\n",
        "# Imprimir resultados\n",
        "print(\"Con el modelo de Random Forest se tiene un accuracy de %0.2f y una std: %0.2f\" \n",
        "% (np.mean(scores), np.std(scores) * 2))"
      ],
      "metadata": {
        "colab": {
          "base_uri": "https://localhost:8080/"
        },
        "id": "pWO1nrNXcnQ7",
        "outputId": "9166f074-1503-47cf-8ef7-807afcd1e8a7"
      },
      "execution_count": 66,
      "outputs": [
        {
          "output_type": "stream",
          "name": "stdout",
          "text": [
            "Con el modelo de Random Forest se tiene un accuracy de 0.42 y una std: 0.23\n"
          ]
        }
      ]
    },
    {
      "cell_type": "code",
      "source": [
        "\"\"\"\n",
        "Aplincando enfoque greedy para la señal ventaneada (3 ventanas sin overshifting)\n",
        " con Random Forest\n",
        "\"\"\"\n",
        "\n",
        "param_grid_rf = {'n_estimators': [100, 200, 300],\n",
        "                 'max_depth': [None, 10, 20]} #hiperparametros del Random Forest\n",
        "\n",
        "grid_search_rf = GridSearchCV(r_f3,param_grid=param_grid_rf,cv=logo,n_jobs=-1)\n",
        "\n",
        "#Ajustando el modelo a los datos de entrenamiento\n",
        "grid_search_rf.fit(X=X1,y=y1,groups=g1)\n",
        "best_forest = grid_search_rf.best_estimator_\n",
        "print(\"Mejores parámetros encontrados: \", grid_search_rf.best_params_)\n",
        "print(\"Precisión media en validación cruzada: \", grid_search_rf.best_score_)"
      ],
      "metadata": {
        "colab": {
          "base_uri": "https://localhost:8080/"
        },
        "id": "2MvDEyFkc_QP",
        "outputId": "bfd2d42b-8ef6-470a-d782-02e7065c297e"
      },
      "execution_count": 67,
      "outputs": [
        {
          "output_type": "stream",
          "name": "stdout",
          "text": [
            "Mejores parámetros encontrados:  {'max_depth': 20, 'n_estimators': 100}\n",
            "Precisión media en validación cruzada:  0.5944444444444444\n"
          ]
        }
      ]
    },
    {
      "cell_type": "markdown",
      "source": [
        "## Extrayendo el CSV"
      ],
      "metadata": {
        "id": "4gXSjpRkXys2"
      }
    },
    {
      "cell_type": "code",
      "source": [
        "import csv"
      ],
      "metadata": {
        "id": "kqy8LXwFX3qN"
      },
      "execution_count": 55,
      "outputs": []
    },
    {
      "cell_type": "code",
      "source": [
        "path_cs = \"/content/drive/MyDrive/CDSI/Practica_3/datos fisiologicos/*/*.csv\"\n",
        "\n",
        "def load_csv(file):\n",
        "  features,labels = [],[]\n",
        "  for file_cs in glob (file):\n",
        "    feature = []\n",
        "    basename = os.path.basename(file_cs)\n",
        "    label = basename.split(\"_\")[2]\n",
        "    with open(file_cs, 'r') as file_csv:\n",
        "        reader = csv.reader(file_csv)\n",
        "        # Saltar las primeras 58 filas\n",
        "        for i in range(58):\n",
        "            next(reader)\n",
        "        # Leer las filas 59 a 67 de la segunda columna\n",
        "        for i in range(8):\n",
        "            feature.append(next(reader)[1])\n",
        "\n",
        "        for i in range (13):\n",
        "          next(reader)\n",
        "\n",
        "        for i in range (6):\n",
        "          r = next(reader)\n",
        "          feature.append(r[1])\n",
        "        \n",
        "        for i in range (5):\n",
        "          next(reader)\n",
        "        \n",
        "        for i in range(4):\n",
        "          feature.append(next(reader)[1])\n",
        "\n",
        "    feature = [float(float(x)) for x in feature]\n",
        "    features.append(feature)\n",
        "    labels.append(label)\n",
        "  return np.array(features),np.array(labels)\n",
        "\n",
        "Xc,yc = load_csv(path_cs)\n",
        "yc.shape"
      ],
      "metadata": {
        "colab": {
          "base_uri": "https://localhost:8080/"
        },
        "id": "dBWbaV4xdm3D",
        "outputId": "0845c733-2f1c-4f08-ba6c-358e29f1166f"
      },
      "execution_count": 56,
      "outputs": [
        {
          "output_type": "execute_result",
          "data": {
            "text/plain": [
              "(37,)"
            ]
          },
          "metadata": {},
          "execution_count": 56
        }
      ]
    },
    {
      "cell_type": "markdown",
      "source": [
        "Cabe recalcar que la variable de Grupos se extrae de la función load_data cuando se importan los txt, y se extrae la señal completa de los txt. Esta variable se regresa como g1 de modo que se puede reciclar"
      ],
      "metadata": {
        "id": "_XdhnyAkla8U"
      }
    },
    {
      "cell_type": "markdown",
      "source": [
        "### Clasificador"
      ],
      "metadata": {
        "id": "MeX87a0Bmuwy"
      }
    },
    {
      "cell_type": "markdown",
      "source": [
        "#### SVM"
      ],
      "metadata": {
        "id": "0iA4xaX-xxCO"
      }
    },
    {
      "cell_type": "code",
      "source": [
        "#Aplicando validación cruzada Leave One Group Out para\n",
        "#la señal entera con el modelo svm\n",
        "sv_m_csv = svm.SVC()\n",
        "logo = LeaveOneGroupOut()\n",
        "scores = []\n",
        "\n",
        "for train_index, test_index in logo.split(Xc, yc, g1):\n",
        "    x_train,x_test = Xc[train_index],Xc[test_index]\n",
        "    y_train,y_test = yc[train_index], yc[test_index]\n",
        "    sv_m_csv.fit(x_train,y_train)\n",
        "    score = sv_m_csv.score(x_test,y_test)\n",
        "    scores.append(score)\n",
        "\n",
        "# Imprimir resultados\n",
        "print(\"Con el modelo de SVM se tiene un accuracy de %0.2f y una std: %0.2f\" \n",
        "% (np.mean(scores), np.std(scores) * 2))"
      ],
      "metadata": {
        "colab": {
          "base_uri": "https://localhost:8080/"
        },
        "id": "rS5VUuDqwseU",
        "outputId": "e571b3d9-a1f4-4b47-cfc6-f3f92d480790"
      },
      "execution_count": 68,
      "outputs": [
        {
          "output_type": "stream",
          "name": "stdout",
          "text": [
            "Con el modelo de SVM se tiene un accuracy de 0.47 y una std: 0.30\n"
          ]
        }
      ]
    },
    {
      "cell_type": "code",
      "source": [
        "\"\"\"\n",
        "Aplicando enfoque greedy para evaluar hiperparametros del svm\n",
        "del csv\n",
        "\"\"\"\n",
        "\n",
        "param_grid_svm = {'C': [0.1, 1, 10],\n",
        "                  'gamma': ['scale', 'auto']} #hiperparametros del svm\n",
        "\n",
        "grid_search_svm = GridSearchCV(sv_m_csv,param_grid=param_grid_svm,cv=logo,n_jobs=-1)\n",
        "\n",
        "#Ajustando el modelo a los datos de entrenamiento\n",
        "grid_search_svm.fit(X=X1,y=y1,groups=g1)\n",
        "best_svm = grid_search_svm.best_estimator_\n",
        "print(\"Mejores parámetros encontrados: \", grid_search_svm.best_params_)\n",
        "print(\"Precisión media en validación cruzada: \", grid_search_svm.best_score_)"
      ],
      "metadata": {
        "colab": {
          "base_uri": "https://localhost:8080/"
        },
        "id": "yiRq4IsextBX",
        "outputId": "c2afae28-beb1-4143-e082-734609a9cf23"
      },
      "execution_count": 58,
      "outputs": [
        {
          "output_type": "stream",
          "name": "stdout",
          "text": [
            "Mejores parámetros encontrados:  {'C': 0.1, 'gamma': 'scale'}\n",
            "Precisión media en validación cruzada:  0.41111111111111115\n"
          ]
        }
      ]
    },
    {
      "cell_type": "markdown",
      "source": [
        "#### Random Forest\n"
      ],
      "metadata": {
        "id": "2w1sa9I2yLwu"
      }
    },
    {
      "cell_type": "code",
      "source": [
        "#Aplicando validación cruzada Leave One Group Out para\n",
        "#la señal entera con el modelo Random Forest\n",
        "rf_csv = RandomForestClassifier()\n",
        "logo = LeaveOneGroupOut()\n",
        "scores = []\n",
        "\n",
        "for train_index, test_index in logo.split(Xc, yc, g1):\n",
        "    x_train,x_test = Xc[train_index],Xc[test_index]\n",
        "    y_train,y_test = yc[train_index], yc[test_index]\n",
        "    rf_csv.fit(x_train,y_train)\n",
        "    score = rf_csv.score(x_test,y_test)\n",
        "    scores.append(score)\n",
        "\n",
        "# Imprimir resultados\n",
        "print(\"Con el modelo de SVM se tiene un accuracy de %0.2f y una std: %0.2f\" \n",
        "% (np.mean(scores), np.std(scores) * 2))"
      ],
      "metadata": {
        "colab": {
          "base_uri": "https://localhost:8080/"
        },
        "id": "Zp6f3ed5kAF9",
        "outputId": "f08ceaed-2b34-492b-9a1a-82bc2d85b85e"
      },
      "execution_count": 59,
      "outputs": [
        {
          "output_type": "stream",
          "name": "stdout",
          "text": [
            "Con el modelo de SVM se tiene un accuracy de 0.62 y una std: 0.42\n"
          ]
        }
      ]
    }
  ]
}